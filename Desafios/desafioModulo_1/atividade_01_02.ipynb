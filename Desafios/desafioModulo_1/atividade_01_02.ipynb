{
 "cells": [
  {
   "cell_type": "code",
   "execution_count": 1,
   "metadata": {},
   "outputs": [
    {
     "name": "stdout",
     "output_type": "stream",
     "text": [
      "{'Maria': 5, 'Juliete': 7, 'Fernando': 8, 'Cristiano': 9, 'Cláudio': 7}\n"
     ]
    }
   ],
   "source": [
    "# relação dos nomes\n",
    "nomes = ['Maria','Juliete', 'Fernando', 'Cristiano', 'Maria', 'Fernando', 'Cláudio']\n",
    "\n",
    "# estrutura que i´ra  armazenar o número de letras de cadad nome\n",
    "qtd_letras={}\n",
    "\n",
    "#Calculando o tamanho de cada nome (em números de nome ) e armazena o valor  na estrutura\n",
    "for nome in nomes:\n",
    "    qtd_letras[nome] = len(nome)\n",
    "    \n",
    "print(qtd_letras)"
   ]
  },
  {
   "cell_type": "code",
   "execution_count": 12,
   "metadata": {},
   "outputs": [
    {
     "name": "stdout",
     "output_type": "stream",
     "text": [
      "{'Maria': 5, 'Juliete': 7, 'Fernando': 8, 'Cristiano': 9, 'Cláudio': 7}\n"
     ]
    }
   ],
   "source": [
    "# Reescrevendo o código com dict comprehension\n",
    "dict_nomes = {nome : len(nome) for nome in nomes }\n",
    "print(dict_nomes)"
   ]
  }
 ],
 "metadata": {
  "kernelspec": {
   "display_name": "Python 3",
   "language": "python",
   "name": "python3"
  },
  "language_info": {
   "codemirror_mode": {
    "name": "ipython",
    "version": 3
   },
   "file_extension": ".py",
   "mimetype": "text/x-python",
   "name": "python",
   "nbconvert_exporter": "python",
   "pygments_lexer": "ipython3",
   "version": "3.11.4"
  }
 },
 "nbformat": 4,
 "nbformat_minor": 2
}
